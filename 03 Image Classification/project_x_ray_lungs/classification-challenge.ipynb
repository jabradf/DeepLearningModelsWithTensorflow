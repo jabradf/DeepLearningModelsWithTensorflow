{
 "cells": [
  {
   "cell_type": "code",
   "execution_count": 33,
   "metadata": {},
   "outputs": [],
   "source": [
    "import tensorflow as tf\n",
    "from tensorflow import keras\n",
    "from tensorflow.keras.models import Sequential\n",
    "from tensorflow.keras.preprocessing.image import ImageDataGenerator\n",
    "\n",
    "from sklearn.metrics import classification_report\n",
    "from sklearn.metrics import confusion_matrix\n",
    "\n",
    "from tensorflow.keras.callbacks import EarlyStopping\n",
    "from tensorflow.keras import layers\n",
    "\n",
    "import matplotlib.pyplot as plt\n",
    "import numpy as np"
   ]
  },
  {
   "cell_type": "markdown",
   "metadata": {},
   "source": [
    "## Step 1\n",
    "The images are all greyscale, 256x256 in size, and are organised into three categories:\n",
    "* Covid\n",
    "* Normal\n",
    "* Pneumonia\n",
    "\n",
    "The images are already split into `test` and `training` sets, so the usual data split isn't needed.\n",
    "\n",
    "## Step 2\n",
    "Set up an image generator for both training and validation sets."
   ]
  },
  {
   "cell_type": "code",
   "execution_count": 22,
   "metadata": {},
   "outputs": [],
   "source": [
    "training_data_generator = ImageDataGenerator(\n",
    "        rescale=1./255, # resize 256px to values between 0 and 1\n",
    "        zoom_range=0.2,\n",
    "        rotation_range=15, #minimal rotation is expected\n",
    "        width_shift_range=0.05,\n",
    "        height_shift_range=0.05)\n",
    "\n",
    "validation_data_generator = ImageDataGenerator(rescale=1./255) # no data augmentation needed for the test data set"
   ]
  },
  {
   "cell_type": "markdown",
   "metadata": {},
   "source": [
    "## Step 3\n",
    "Create the iteratable object to load in the data\n",
    "\n",
    "Use classification mode of 'categorical', which returns 2 dimensional one-hot encoded labels, as opposed to 'sparse' to return 1 dimensional labels.\n",
    "\n",
    "A relatively small batch size will reduce memory requirements, while also reducing the average of the gradient; ie it would sacrifice accuracy."
   ]
  },
  {
   "cell_type": "code",
   "execution_count": 55,
   "metadata": {},
   "outputs": [
    {
     "name": "stdout",
     "output_type": "stream",
     "text": [
      "Found 251 images belonging to 3 classes.\n",
      "Found 66 images belonging to 3 classes.\n"
     ]
    }
   ],
   "source": [
    "BATCH_SIZE = 8\n",
    "training_iterator = training_data_generator.flow_from_directory('Covid19-dataset/train', class_mode='categorical', color_mode='grayscale', batch_size=BATCH_SIZE)\n",
    "\n",
    "validation_iterator = validation_data_generator.flow_from_directory('Covid19-dataset/test', class_mode='categorical', color_mode='grayscale', batch_size=BATCH_SIZE)\n"
   ]
  },
  {
   "cell_type": "markdown",
   "metadata": {},
   "source": [
    "## Step 4\n",
    "Create the model, considering the following information:\n",
    "* The shape of your input\n",
    "* The shape of your output\n",
    "* Using any activation functions for your output\n",
    "* Your gradient descent optimizer\n",
    "* Your learning rate\n",
    "* Your loss functions and metrics\n",
    "* Flattening the image data before the output layer\n",
    "\n",
    "Ensure each layer has more filters than the previous, so as to capture more complex patterns than the previous."
   ]
  },
  {
   "cell_type": "code",
   "execution_count": 58,
   "metadata": {},
   "outputs": [
    {
     "name": "stdout",
     "output_type": "stream",
     "text": [
      "Model: \"sequential_9\"\n",
      "_________________________________________________________________\n",
      " Layer (type)                Output Shape              Param #   \n",
      "=================================================================\n",
      " conv2d_10 (Conv2D)          (None, 84, 84, 2)         52        \n",
      "                                                                 \n",
      " max_pooling2d_10 (MaxPooli  (None, 16, 16, 2)         0         \n",
      " ng2D)                                                           \n",
      "                                                                 \n",
      " conv2d_11 (Conv2D)          (None, 14, 14, 4)         76        \n",
      "                                                                 \n",
      " max_pooling2d_11 (MaxPooli  (None, 7, 7, 4)           0         \n",
      " ng2D)                                                           \n",
      "                                                                 \n",
      " flatten_5 (Flatten)         (None, 196)               0         \n",
      "                                                                 \n",
      " dense_9 (Dense)             (None, 3)                 591       \n",
      "                                                                 \n",
      "=================================================================\n",
      "Total params: 719 (2.81 KB)\n",
      "Trainable params: 719 (2.81 KB)\n",
      "Non-trainable params: 0 (0.00 Byte)\n",
      "_________________________________________________________________\n"
     ]
    }
   ],
   "source": [
    "model = Sequential()\n",
    "model.add(tf.keras.Input(shape=(256, 256, 1)))\n",
    "model.add(tf.keras.layers.Conv2D(2, 5, strides=3, activation=\"relu\")) \n",
    "model.add(tf.keras.layers.MaxPooling2D(pool_size=(5, 5), strides=(5,5)))\n",
    "\n",
    "model.add(tf.keras.layers.Conv2D(4, 3, strides=1, activation=\"relu\")) \n",
    "model.add(tf.keras.layers.MaxPooling2D(pool_size=(2,2), strides=(2,2)))\n",
    "\n",
    "model.add(tf.keras.layers.Flatten())\n",
    "model.add(tf.keras.layers.Dense(3, activation=\"softmax\"))\n",
    "\n",
    "model.summary()"
   ]
  },
  {
   "cell_type": "markdown",
   "metadata": {},
   "source": [
    "## Step 5\n",
    "Compile and train the model!"
   ]
  },
  {
   "cell_type": "code",
   "execution_count": 59,
   "metadata": {},
   "outputs": [],
   "source": [
    "model.compile(\n",
    "    optimizer = tf.keras.optimizers.Adam(learning_rate=0.005),\n",
    "    loss = tf.keras.losses.CategoricalCrossentropy(),\n",
    "    metrics=[tf.keras.metrics.CategoricalAccuracy(), tf.keras.metrics.AUC()]\n",
    ")"
   ]
  },
  {
   "cell_type": "code",
   "execution_count": 60,
   "metadata": {},
   "outputs": [
    {
     "name": "stdout",
     "output_type": "stream",
     "text": [
      "Epoch 1/50\n",
      "31/31 [==============================] - 4s 87ms/step - loss: 1.1045 - categorical_accuracy: 0.3825 - auc_7: 0.5514 - val_loss: 1.0919 - val_categorical_accuracy: 0.3939 - val_auc_7: 0.5764\n",
      "Epoch 2/50\n",
      "31/31 [==============================] - 2s 74ms/step - loss: 1.0832 - categorical_accuracy: 0.4422 - auc_7: 0.5860 - val_loss: 1.1018 - val_categorical_accuracy: 0.4091 - val_auc_7: 0.5118\n",
      "Epoch 3/50\n",
      "31/31 [==============================] - 2s 65ms/step - loss: 1.0793 - categorical_accuracy: 0.4422 - auc_7: 0.5865 - val_loss: 1.0808 - val_categorical_accuracy: 0.3939 - val_auc_7: 0.6049\n",
      "Epoch 4/50\n",
      "31/31 [==============================] - 2s 64ms/step - loss: 1.0514 - categorical_accuracy: 0.4980 - auc_7: 0.6653 - val_loss: 1.0510 - val_categorical_accuracy: 0.5000 - val_auc_7: 0.6540\n",
      "Epoch 5/50\n",
      "31/31 [==============================] - 2s 67ms/step - loss: 0.9257 - categorical_accuracy: 0.6454 - auc_7: 0.8057 - val_loss: 0.8604 - val_categorical_accuracy: 0.5758 - val_auc_7: 0.7904\n",
      "Epoch 6/50\n",
      "31/31 [==============================] - 2s 65ms/step - loss: 0.6424 - categorical_accuracy: 0.7211 - auc_7: 0.8928 - val_loss: 0.5660 - val_categorical_accuracy: 0.8030 - val_auc_7: 0.9075\n",
      "Epoch 7/50\n",
      "31/31 [==============================] - 2s 66ms/step - loss: 0.5967 - categorical_accuracy: 0.7291 - auc_7: 0.9026 - val_loss: 0.5832 - val_categorical_accuracy: 0.7121 - val_auc_7: 0.9012\n",
      "Epoch 8/50\n",
      "31/31 [==============================] - 2s 71ms/step - loss: 0.5272 - categorical_accuracy: 0.7809 - auc_7: 0.9219 - val_loss: 0.4326 - val_categorical_accuracy: 0.8182 - val_auc_7: 0.9474\n",
      "Epoch 9/50\n",
      "31/31 [==============================] - 2s 64ms/step - loss: 0.5228 - categorical_accuracy: 0.8048 - auc_7: 0.9253 - val_loss: 0.3736 - val_categorical_accuracy: 0.8333 - val_auc_7: 0.9628\n",
      "Epoch 10/50\n",
      "31/31 [==============================] - 2s 67ms/step - loss: 0.4720 - categorical_accuracy: 0.8048 - auc_7: 0.9390 - val_loss: 0.3706 - val_categorical_accuracy: 0.8485 - val_auc_7: 0.9611\n",
      "Epoch 11/50\n",
      "31/31 [==============================] - 2s 65ms/step - loss: 0.4067 - categorical_accuracy: 0.8247 - auc_7: 0.9543 - val_loss: 0.3941 - val_categorical_accuracy: 0.7879 - val_auc_7: 0.9528\n",
      "Epoch 12/50\n",
      "31/31 [==============================] - 2s 67ms/step - loss: 0.4370 - categorical_accuracy: 0.8446 - auc_7: 0.9472 - val_loss: 0.3813 - val_categorical_accuracy: 0.8182 - val_auc_7: 0.9574\n",
      "Epoch 13/50\n",
      "31/31 [==============================] - 2s 65ms/step - loss: 0.4430 - categorical_accuracy: 0.8127 - auc_7: 0.9457 - val_loss: 0.4103 - val_categorical_accuracy: 0.7879 - val_auc_7: 0.9509\n",
      "Epoch 14/50\n",
      "31/31 [==============================] - 2s 65ms/step - loss: 0.4188 - categorical_accuracy: 0.8327 - auc_7: 0.9514 - val_loss: 0.4197 - val_categorical_accuracy: 0.7879 - val_auc_7: 0.9474\n",
      "Epoch 15/50\n",
      "31/31 [==============================] - 2s 65ms/step - loss: 0.3957 - categorical_accuracy: 0.8685 - auc_7: 0.9550 - val_loss: 0.2928 - val_categorical_accuracy: 0.8939 - val_auc_7: 0.9791\n",
      "Epoch 16/50\n",
      "31/31 [==============================] - 2s 66ms/step - loss: 0.4309 - categorical_accuracy: 0.8088 - auc_7: 0.9480 - val_loss: 0.3571 - val_categorical_accuracy: 0.8485 - val_auc_7: 0.9641\n",
      "Epoch 17/50\n",
      "31/31 [==============================] - 2s 65ms/step - loss: 0.3541 - categorical_accuracy: 0.8606 - auc_7: 0.9646 - val_loss: 0.3759 - val_categorical_accuracy: 0.8182 - val_auc_7: 0.9575\n",
      "Epoch 18/50\n",
      "31/31 [==============================] - 2s 66ms/step - loss: 0.4229 - categorical_accuracy: 0.8526 - auc_7: 0.9516 - val_loss: 0.3754 - val_categorical_accuracy: 0.8333 - val_auc_7: 0.9578\n",
      "Epoch 19/50\n",
      "31/31 [==============================] - 2s 65ms/step - loss: 0.3990 - categorical_accuracy: 0.8446 - auc_7: 0.9551 - val_loss: 0.5831 - val_categorical_accuracy: 0.7576 - val_auc_7: 0.9023\n",
      "Epoch 20/50\n",
      "31/31 [==============================] - 2s 66ms/step - loss: 0.4631 - categorical_accuracy: 0.8088 - auc_7: 0.9411 - val_loss: 0.5016 - val_categorical_accuracy: 0.8030 - val_auc_7: 0.9253\n",
      "Epoch 21/50\n",
      "31/31 [==============================] - 2s 66ms/step - loss: 0.3908 - categorical_accuracy: 0.8367 - auc_7: 0.9581 - val_loss: 0.3607 - val_categorical_accuracy: 0.8030 - val_auc_7: 0.9617\n",
      "Epoch 22/50\n",
      "31/31 [==============================] - 2s 65ms/step - loss: 0.3561 - categorical_accuracy: 0.8765 - auc_7: 0.9651 - val_loss: 0.5225 - val_categorical_accuracy: 0.7576 - val_auc_7: 0.9164\n",
      "Epoch 23/50\n",
      "31/31 [==============================] - 2s 69ms/step - loss: 0.3574 - categorical_accuracy: 0.8566 - auc_7: 0.9640 - val_loss: 0.3890 - val_categorical_accuracy: 0.7727 - val_auc_7: 0.9536\n",
      "Epoch 24/50\n",
      "31/31 [==============================] - 2s 65ms/step - loss: 0.3270 - categorical_accuracy: 0.8606 - auc_7: 0.9689 - val_loss: 0.3448 - val_categorical_accuracy: 0.8485 - val_auc_7: 0.9637\n",
      "Epoch 25/50\n",
      "31/31 [==============================] - 2s 68ms/step - loss: 0.3683 - categorical_accuracy: 0.8685 - auc_7: 0.9620 - val_loss: 0.2683 - val_categorical_accuracy: 0.8939 - val_auc_7: 0.9821\n",
      "Epoch 26/50\n",
      "31/31 [==============================] - 2s 64ms/step - loss: 0.2930 - categorical_accuracy: 0.8924 - auc_7: 0.9768 - val_loss: 0.4766 - val_categorical_accuracy: 0.7576 - val_auc_7: 0.9306\n",
      "Epoch 27/50\n",
      "31/31 [==============================] - 2s 68ms/step - loss: 0.3306 - categorical_accuracy: 0.8725 - auc_7: 0.9686 - val_loss: 0.3038 - val_categorical_accuracy: 0.8788 - val_auc_7: 0.9742\n",
      "Epoch 28/50\n",
      "31/31 [==============================] - 2s 65ms/step - loss: 0.3555 - categorical_accuracy: 0.8765 - auc_7: 0.9667 - val_loss: 0.4755 - val_categorical_accuracy: 0.7727 - val_auc_7: 0.9316\n",
      "Epoch 29/50\n",
      "31/31 [==============================] - 2s 66ms/step - loss: 0.3428 - categorical_accuracy: 0.8685 - auc_7: 0.9672 - val_loss: 0.2597 - val_categorical_accuracy: 0.9091 - val_auc_7: 0.9831\n",
      "Epoch 30/50\n",
      "31/31 [==============================] - 2s 67ms/step - loss: 0.3955 - categorical_accuracy: 0.8645 - auc_7: 0.9573 - val_loss: 0.3813 - val_categorical_accuracy: 0.7879 - val_auc_7: 0.9574\n",
      "Epoch 31/50\n",
      "31/31 [==============================] - 2s 64ms/step - loss: 0.3406 - categorical_accuracy: 0.8805 - auc_7: 0.9671 - val_loss: 0.3634 - val_categorical_accuracy: 0.8485 - val_auc_7: 0.9601\n",
      "Epoch 32/50\n",
      "31/31 [==============================] - 2s 68ms/step - loss: 0.2259 - categorical_accuracy: 0.9124 - auc_7: 0.9860 - val_loss: 0.3717 - val_categorical_accuracy: 0.8333 - val_auc_7: 0.9578\n",
      "Epoch 33/50\n",
      "31/31 [==============================] - 2s 68ms/step - loss: 0.3017 - categorical_accuracy: 0.8845 - auc_7: 0.9728 - val_loss: 0.4148 - val_categorical_accuracy: 0.8182 - val_auc_7: 0.9498\n",
      "Epoch 34/50\n",
      "31/31 [==============================] - 2s 65ms/step - loss: 0.2735 - categorical_accuracy: 0.9004 - auc_7: 0.9767 - val_loss: 0.3381 - val_categorical_accuracy: 0.8636 - val_auc_7: 0.9675\n",
      "Epoch 35/50\n",
      "31/31 [==============================] - 2s 65ms/step - loss: 0.3267 - categorical_accuracy: 0.8725 - auc_7: 0.9693 - val_loss: 0.3828 - val_categorical_accuracy: 0.8182 - val_auc_7: 0.9577\n",
      "Epoch 36/50\n",
      "31/31 [==============================] - 2s 65ms/step - loss: 0.3664 - categorical_accuracy: 0.8486 - auc_7: 0.9614 - val_loss: 0.2828 - val_categorical_accuracy: 0.8485 - val_auc_7: 0.9761\n",
      "Epoch 37/50\n",
      "31/31 [==============================] - 2s 72ms/step - loss: 0.2747 - categorical_accuracy: 0.9084 - auc_7: 0.9787 - val_loss: 0.4439 - val_categorical_accuracy: 0.8030 - val_auc_7: 0.9479\n",
      "Epoch 38/50\n",
      "31/31 [==============================] - 2s 67ms/step - loss: 0.3277 - categorical_accuracy: 0.8964 - auc_7: 0.9698 - val_loss: 0.3056 - val_categorical_accuracy: 0.8636 - val_auc_7: 0.9740\n",
      "Epoch 39/50\n",
      "31/31 [==============================] - 2s 68ms/step - loss: 0.2897 - categorical_accuracy: 0.8924 - auc_7: 0.9756 - val_loss: 0.3707 - val_categorical_accuracy: 0.8485 - val_auc_7: 0.9618\n",
      "Epoch 40/50\n",
      "31/31 [==============================] - 2s 71ms/step - loss: 0.4278 - categorical_accuracy: 0.8167 - auc_7: 0.9507 - val_loss: 0.4497 - val_categorical_accuracy: 0.8030 - val_auc_7: 0.9423\n",
      "Epoch 41/50\n",
      "31/31 [==============================] - 2s 65ms/step - loss: 0.3037 - categorical_accuracy: 0.8606 - auc_7: 0.9753 - val_loss: 0.3586 - val_categorical_accuracy: 0.8788 - val_auc_7: 0.9638\n",
      "Epoch 42/50\n",
      "31/31 [==============================] - 2s 67ms/step - loss: 0.2485 - categorical_accuracy: 0.9084 - auc_7: 0.9819 - val_loss: 0.2717 - val_categorical_accuracy: 0.8636 - val_auc_7: 0.9801\n",
      "Epoch 43/50\n",
      "31/31 [==============================] - 2s 65ms/step - loss: 0.2527 - categorical_accuracy: 0.9163 - auc_7: 0.9812 - val_loss: 0.4715 - val_categorical_accuracy: 0.8182 - val_auc_7: 0.9378\n",
      "Epoch 44/50\n",
      "31/31 [==============================] - 2s 66ms/step - loss: 0.2860 - categorical_accuracy: 0.8884 - auc_7: 0.9750 - val_loss: 0.3887 - val_categorical_accuracy: 0.8182 - val_auc_7: 0.9605\n",
      "Epoch 45/50\n",
      "31/31 [==============================] - 2s 67ms/step - loss: 0.2241 - categorical_accuracy: 0.8924 - auc_7: 0.9842 - val_loss: 0.3024 - val_categorical_accuracy: 0.8939 - val_auc_7: 0.9730\n",
      "Epoch 46/50\n",
      "31/31 [==============================] - 2s 64ms/step - loss: 0.2538 - categorical_accuracy: 0.9084 - auc_7: 0.9814 - val_loss: 0.4450 - val_categorical_accuracy: 0.8030 - val_auc_7: 0.9471\n",
      "Epoch 47/50\n",
      "31/31 [==============================] - 2s 66ms/step - loss: 0.2438 - categorical_accuracy: 0.8964 - auc_7: 0.9825 - val_loss: 0.2737 - val_categorical_accuracy: 0.8788 - val_auc_7: 0.9784\n",
      "Epoch 48/50\n",
      "31/31 [==============================] - 2s 65ms/step - loss: 0.2415 - categorical_accuracy: 0.9044 - auc_7: 0.9837 - val_loss: 0.3224 - val_categorical_accuracy: 0.8485 - val_auc_7: 0.9722\n",
      "Epoch 49/50\n",
      "31/31 [==============================] - 2s 70ms/step - loss: 0.1781 - categorical_accuracy: 0.9203 - auc_7: 0.9910 - val_loss: 0.4342 - val_categorical_accuracy: 0.8333 - val_auc_7: 0.9553\n",
      "Epoch 50/50\n",
      "31/31 [==============================] - 2s 67ms/step - loss: 0.2140 - categorical_accuracy: 0.9203 - auc_7: 0.9854 - val_loss: 0.3971 - val_categorical_accuracy: 0.8182 - val_auc_7: 0.9614\n"
     ]
    }
   ],
   "source": [
    "prediction_history = model.fit(\n",
    "        training_iterator,\n",
    "        steps_per_epoch = training_iterator.samples/BATCH_SIZE,\n",
    "        epochs=50,\n",
    "        validation_data = validation_iterator,\n",
    "        validation_steps = validation_iterator.samples/BATCH_SIZE)"
   ]
  },
  {
   "cell_type": "markdown",
   "metadata": {},
   "source": [
    "## Make some predictions"
   ]
  },
  {
   "cell_type": "code",
   "execution_count": 61,
   "metadata": {},
   "outputs": [
    {
     "name": "stdout",
     "output_type": "stream",
     "text": [
      "9/9 [==============================] - 0s 22ms/step\n"
     ]
    }
   ],
   "source": [
    "predictions = model.predict(validation_iterator)\n",
    "y_pred = np.argmax(predictions, axis=1)\n",
    "y_true = validation_iterator.classes"
   ]
  },
  {
   "cell_type": "code",
   "execution_count": 62,
   "metadata": {},
   "outputs": [
    {
     "name": "stdout",
     "output_type": "stream",
     "text": [
      "Confusion Matrix:\n",
      "[[ 9  7 10]\n",
      " [ 7  7  6]\n",
      " [ 8  2 10]]\n"
     ]
    }
   ],
   "source": [
    "# Create the confusion matrix\n",
    "cm = confusion_matrix(y_true, y_pred)\n",
    "print(\"Confusion Matrix:\")\n",
    "print(cm)"
   ]
  },
  {
   "cell_type": "code",
   "execution_count": 63,
   "metadata": {},
   "outputs": [
    {
     "name": "stdout",
     "output_type": "stream",
     "text": [
      "Classification Report:\n",
      "              precision    recall  f1-score   support\n",
      "\n",
      "       Covid       0.38      0.35      0.36        26\n",
      "      Normal       0.44      0.35      0.39        20\n",
      "   Pneumonia       0.38      0.50      0.43        20\n",
      "\n",
      "    accuracy                           0.39        66\n",
      "   macro avg       0.40      0.40      0.39        66\n",
      "weighted avg       0.40      0.39      0.39        66\n",
      "\n"
     ]
    }
   ],
   "source": [
    "# maps class names to their corresponding index values in list format\n",
    "class_labels = list(validation_iterator.class_indices.keys())\n",
    "report = classification_report(y_true, y_pred, target_names=class_labels)\n",
    "print(\"Classification Report:\")\n",
    "print(report)"
   ]
  },
  {
   "cell_type": "code",
   "execution_count": 64,
   "metadata": {},
   "outputs": [
    {
     "name": "stdout",
     "output_type": "stream",
     "text": [
      "dict_keys(['loss', 'categorical_accuracy', 'auc_7', 'val_loss', 'val_categorical_accuracy', 'val_auc_7'])\n"
     ]
    }
   ],
   "source": [
    "print(prediction_history.history.keys())"
   ]
  },
  {
   "cell_type": "code",
   "execution_count": 66,
   "metadata": {},
   "outputs": [
    {
     "data": {
      "image/png": "[encoded data removed]",
      "text/plain": [
       "<Figure size 640x480 with 2 Axes>"
      ]
     },
     "metadata": {},
     "output_type": "display_data"
    }
   ],
   "source": [
    "fig = plt.figure()\n",
    "ax1 = fig.add_subplot(2, 1, 1)\n",
    "ax1.plot(prediction_history.history['categorical_accuracy'])\n",
    "ax1.plot(prediction_history.history['val_categorical_accuracy'])\n",
    "ax1.set_title('model accuracy')\n",
    "ax1.set_xlabel('epoch')\n",
    "ax1.set_ylabel('accuracy')\n",
    "ax1.legend(['train', 'validation'], loc='upper left')\n",
    " \n",
    "# plotting auc and validation auc over epochs\n",
    "ax2 = fig.add_subplot(2, 1, 2)\n",
    "ax2.plot(prediction_history.history['auc_7'])\n",
    "ax2.plot(prediction_history.history['val_auc_7'])\n",
    "ax2.set_title('model auc')\n",
    "ax2.set_xlabel('epoch')\n",
    "ax2.set_ylabel('auc')\n",
    "ax2.legend(['train', 'validation'], loc='upper left')\n",
    " \n",
    "# used to keep plots from overlapping\n",
    "fig.tight_layout()\n",
    " \n",
    "\n",
    "plt.show()"
   ]
  },
  {
   "cell_type": "markdown",
   "metadata": {},
   "source": [
    "## Notes\n",
    "Making use of an early stop mechanism would help the model converge a lot quicker than the 50 epochs that were run here.\n",
    "Only ~10 epochs are needed for a moderately accurate system.\n",
    "\n",
    "Keeping in mind that this model may be overfit seeing as the training data set was quite small. More work could be done here to get a larger dataset and really put it to the test!"
   ]
  }
 ],
 "metadata": {
  "kernelspec": {
   "display_name": "Python 3",
   "language": "python",
   "name": "python3"
  },
  "language_info": {
   "codemirror_mode": {
    "name": "ipython",
    "version": 3
   },
   "file_extension": ".py",
   "mimetype": "text/x-python",
   "name": "python",
   "nbconvert_exporter": "python",
   "pygments_lexer": "ipython3",
   "version": "3.11.7"
  }
 },
 "nbformat": 4,
 "nbformat_minor": 2
}
